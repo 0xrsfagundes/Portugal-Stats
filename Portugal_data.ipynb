{
 "cells": [
  {
   "cell_type": "code",
   "execution_count": 95,
   "metadata": {},
   "outputs": [
    {
     "name": "stdout",
     "output_type": "stream",
     "text": [
      "       geocod                  geodsg dim_3                         dim_3_t  \\\n",
      "0     1111604                  Monção   646  Condução sem habilitação legal   \n",
      "1     1111606          Ponte da Barca   646  Condução sem habilitação legal   \n",
      "2     1111607           Ponte de Lima   646  Condução sem habilitação legal   \n",
      "3     11A1312                   Porto   646  Condução sem habilitação legal   \n",
      "4     11A1313         Póvoa de Varzim   646  Condução sem habilitação legal   \n",
      "...       ...                     ...   ...                             ...   \n",
      "5499  16G1803            Castro Daire     5          Crimes contra o Estado   \n",
      "5500  16G1806               Mangualde     5          Crimes contra o Estado   \n",
      "5501  16G1809                   Nelas     5          Crimes contra o Estado   \n",
      "5502  16H0507               Penamacor     5          Crimes contra o Estado   \n",
      "5503  16I1420  Vila Nova da Barquinha     5          Crimes contra o Estado   \n",
      "\n",
      "     valor sinal_conv    sinal_conv_desc  \n",
      "0        4        NaN                NaN  \n",
      "1      NaN          …  Dado confidencial  \n",
      "2       16        NaN                NaN  \n",
      "3      401        NaN                NaN  \n",
      "4        3        NaN                NaN  \n",
      "...    ...        ...                ...  \n",
      "5499   NaN          …  Dado confidencial  \n",
      "5500   NaN          …  Dado confidencial  \n",
      "5501   NaN          …  Dado confidencial  \n",
      "5502     0        NaN                NaN  \n",
      "5503   NaN          …  Dado confidencial  \n",
      "\n",
      "[5504 rows x 7 columns]\n"
     ]
    }
   ],
   "source": [
    "import urllib.request, json\n",
    "import pandas as pd\n",
    "\n",
    "url = \"https://dados.gov.pt/pt/datasets/r/0473866d-9cd5-44a5-9acb-37c804f3b13a\"\n",
    "response = urllib.request.urlopen(url)\n",
    "data = json.loads(response.read().decode())\n",
    "\n",
    "for item in data:\n",
    "    df = pd.json_normalize(item[\"Dados\"][\"2021\"])\n",
    "\n",
    "print(df)\n"
   ]
  }
 ],
 "metadata": {
  "kernelspec": {
   "display_name": "Python 3",
   "language": "python",
   "name": "python3"
  },
  "language_info": {
   "name": "python",
   "version": "3.7.3"
  },
  "orig_nbformat": 4
 },
 "nbformat": 4,
 "nbformat_minor": 2
}
