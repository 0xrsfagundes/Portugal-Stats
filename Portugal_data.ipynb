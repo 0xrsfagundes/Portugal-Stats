{
 "cells": [
  {
   "cell_type": "code",
   "execution_count": 22,
   "metadata": {},
   "outputs": [
    {
     "name": "stdout",
     "output_type": "stream",
     "text": [
      "  IndicadorCod                                       IndicadorDsg  \\\n",
      "0      0008074  Taxa de criminalidade (‰) por Localização geog...   \n",
      "\n",
      "                                          MetaInfUrl  \\\n",
      "0  https://www.ine.pt/bddXplorer/htdocs/minfo.jsp...   \n",
      "\n",
      "               DataExtracao DataUltimoAtualizacao UltimoPref  \\\n",
      "0  2023-03-05T20:39:52.711Z            2022-08-04       2021   \n",
      "\n",
      "                                               Dados  \\\n",
      "0  {'2021': [{'geocod': '11E0412', 'geodsg': 'Vin...   \n",
      "\n",
      "                           Sucesso  \n",
      "0  {'Verdadeiro': [{'Msg': 'OK'}]}  \n"
     ]
    }
   ],
   "source": [
    "import requests\n",
    "import pandas as pd\n",
    "\n",
    "# Send HTTP request to URL and retrieve JSON data\n",
    "response = requests.get(\"https://dados.gov.pt/pt/datasets/r/8d3be684-be6f-4113-9020-e7d70a641517\")\n",
    "data = response.json()\n",
    "\n",
    "# Create pandas DataFrame from JSON data\n",
    "df = pd.DataFrame(data)\n",
    "\n",
    "# Print DataFrame\n",
    "print(df)"
   ]
  }
 ],
 "metadata": {
  "kernelspec": {
   "display_name": "Python 3",
   "language": "python",
   "name": "python3"
  },
  "language_info": {
   "name": "python",
   "version": "3.7.3"
  },
  "orig_nbformat": 4
 },
 "nbformat": 4,
 "nbformat_minor": 2
}
