{
 "cells": [
  {
   "cell_type": "markdown",
   "metadata": {},
   "source": [
    "<h2>Library</h2>"
   ]
  },
  {
   "cell_type": "code",
   "execution_count": 3,
   "metadata": {},
   "outputs": [],
   "source": [
    "import requests\n",
    "import folium\n",
    "import pandas as pd"
   ]
  },
  {
   "cell_type": "markdown",
   "metadata": {},
   "source": [
    "<h2>Main</h2>"
   ]
  },
  {
   "cell_type": "code",
   "execution_count": 6,
   "metadata": {},
   "outputs": [],
   "source": [
    "# Load csv file from \"Portugal Crimes Report\"\n",
    "df = pd.read_csv('csv/df_filtered.csv')"
   ]
  },
  {
   "cell_type": "code",
   "execution_count": 20,
   "metadata": {},
   "outputs": [],
   "source": [
    "# get the 25 most dangerous cities in Portugal\n",
    "df_most_dangerous_cities = df.groupby('city')['value'].sum().sort_values(ascending=False).head(25).reset_index()"
   ]
  },
  {
   "cell_type": "code",
   "execution_count": 21,
   "metadata": {},
   "outputs": [],
   "source": [
    "# Define the cities to plot\n",
    "cities = df_most_dangerous_cities.city\n",
    "\n",
    "# Set up the map\n",
    "map = folium.Map(location=[37.0902, -95.7129], zoom_start=4)\n",
    "\n",
    "# Loop through the cities and add a marker for each one\n",
    "for city in cities:\n",
    "    # Use the Bing Maps REST Services API to get the latitude and longitude coordinates of the city\n",
    "    url = 'http://dev.virtualearth.net/REST/v1/Locations'\n",
    "    params = {'q': city, 'key': 'AqftqirjkuYeZgkG9LEdoTjhJq8d0RuX0oVV-gDt5q2w5hgqtnGcB6BfwJsp29pr'}\n",
    "    response = requests.get(url, params=params).json()\n",
    "\n",
    "    # Check if the response contains any results\n",
    "    if response['resourceSets']:\n",
    "        location = response['resourceSets'][0]['resources'][0]['point']['coordinates']\n",
    "\n",
    "        # Add a marker for the city to the map\n",
    "        folium.Marker([location[0], location[1]], tooltip=city).add_to(map)\n",
    "    else:\n",
    "        print(f\"No results found for {city}\")\n",
    "\n",
    "# Save the map to an HTML file\n",
    "map.save('html/cities_map.html')"
   ]
  }
 ],
 "metadata": {
  "kernelspec": {
   "display_name": "Python 3 (ipykernel)",
   "language": "python",
   "name": "python3"
  },
  "language_info": {
   "codemirror_mode": {
    "name": "ipython",
    "version": 3
   },
   "file_extension": ".py",
   "mimetype": "text/x-python",
   "name": "python",
   "nbconvert_exporter": "python",
   "pygments_lexer": "ipython3",
   "version": "3.10.5"
  }
 },
 "nbformat": 4,
 "nbformat_minor": 2
}
