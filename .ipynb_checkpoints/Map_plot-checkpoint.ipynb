{
 "cells": [
  {
   "cell_type": "code",
   "execution_count": 1,
   "metadata": {},
   "outputs": [],
   "source": [
    "import requests\n",
    "import folium\n",
    "\n",
    "# Define the cities to plot\n",
    "cities = ['Lisbon', 'Porto', 'Montijo', 'Paris', 'Madrid']\n",
    "\n",
    "# Set up the map\n",
    "map = folium.Map(location=[37.0902, -95.7129], zoom_start=4)\n",
    "\n",
    "# Loop through the cities and add a marker for each one\n",
    "for city in cities:\n",
    "    # Use the Bing Maps REST Services API to get the latitude and longitude coordinates of the city\n",
    "    url = 'http://dev.virtualearth.net/REST/v1/Locations'\n",
    "    params = {'q': city, 'key': 'AqftqirjkuYeZgkG9LEdoTjhJq8d0RuX0oVV-gDt5q2w5hgqtnGcB6BfwJsp29pr'}\n",
    "    response = requests.get(url, params=params).json()\n",
    "\n",
    "    # Check if the response contains any results\n",
    "    if response['resourceSets']:\n",
    "        location = response['resourceSets'][0]['resources'][0]['point']['coordinates']\n",
    "\n",
    "        # Add a marker for the city to the map\n",
    "        folium.Marker([location[0], location[1]], tooltip=city).add_to(map)\n",
    "    else:\n",
    "        print(f\"No results found for {city}\")\n",
    "\n",
    "# Save the map to an HTML file\n",
    "map.save('cities_map.html')"
   ]
  },
  {
   "cell_type": "code",
   "execution_count": 9,
   "metadata": {},
   "outputs": [],
   "source": [
    "import requests\n",
    "import folium\n",
    "\n",
    "# Set up the map\n",
    "m = folium.Map(location=[0, 0], zoom_start=2)\n",
    "\n",
    "# Define the IP addresses to plot\n",
    "ip_addresses = ['8.8.8.8', '157.240.14.35', '185.199.111.153', '54.186.250.79']\n",
    "\n",
    "# Loop through the IP addresses and add a marker for each one\n",
    "for ip_address in ip_addresses:\n",
    "    # Use the ipapi API to get the latitude and longitude coordinates of the IP address\n",
    "    url = f'https://ipapi.co/{ip_address}/json/'\n",
    "    response = requests.get(url).json()\n",
    "    location = [response['latitude'], response['longitude']]\n",
    "    \n",
    "    # Add a marker for the IP address to the map\n",
    "    tooltip = f\"{ip_address}: {response['city']}, {response['region']}, {response['country_name']}\"\n",
    "    folium.Marker(location=location, tooltip=tooltip).add_to(m)\n",
    "\n",
    "# Save the map to an HTML file\n",
    "m.save('ip_addresses_map.html')\n"
   ]
  }
 ],
 "metadata": {
  "kernelspec": {
   "display_name": "Python 3 (ipykernel)",
   "language": "python",
   "name": "python3"
  },
  "language_info": {
   "codemirror_mode": {
    "name": "ipython",
    "version": 3
   },
   "file_extension": ".py",
   "mimetype": "text/x-python",
   "name": "python",
   "nbconvert_exporter": "python",
   "pygments_lexer": "ipython3",
   "version": "3.10.9"
  }
 },
 "nbformat": 4,
 "nbformat_minor": 2
}
