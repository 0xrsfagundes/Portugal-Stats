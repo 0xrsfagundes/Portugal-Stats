{
 "cells": [
  {
   "cell_type": "markdown",
   "metadata": {},
   "source": [
    "<h1>Crimes registados (N.º) pelas autoridades policiais</h1>\n",
    "\n",
    "<a href=\"https://dados.gov.pt/pt/datasets/crimes-registados-n-o-pelas-autoridades-policiais/#_\">https://dados.gov.pt/pt/datasets/crimes-registados-n-o-pelas-autoridades-policiais/#_</a>"
   ]
  },
  {
   "cell_type": "markdown",
   "metadata": {},
   "source": [
    "<h2>Library</h2>"
   ]
  },
  {
   "cell_type": "code",
   "execution_count": null,
   "metadata": {},
   "outputs": [],
   "source": [
    "import urllib.request, json\n",
    "import ssl\n",
    "import pandas as pd\n",
    "import matplotlib.pyplot as plt\n",
    "import seaborn as sns\n",
    "import numpy as np"
   ]
  },
  {
   "cell_type": "markdown",
   "metadata": {},
   "source": [
    "<h2>Main</h2>"
   ]
  },
  {
   "cell_type": "code",
   "execution_count": null,
   "metadata": {
    "scrolled": false
   },
   "outputs": [],
   "source": [
    "# Disable SSL certificate verification to avoid error\n",
    "ssl._create_default_https_context = ssl._create_unverified_context\n",
    "\n",
    "url = \"https://dados.gov.pt/pt/datasets/r/bb01e010-0ed5-4a19-8da2-613bee384241\"\n",
    "response = urllib.request.urlopen(url)\n",
    "data = json.loads(response.read().decode())"
   ]
  },
  {
   "cell_type": "code",
   "execution_count": null,
   "metadata": {},
   "outputs": [],
   "source": [
    "#print(json.dumps(data, indent=4))"
   ]
  },
  {
   "cell_type": "code",
   "execution_count": null,
   "metadata": {
    "scrolled": false
   },
   "outputs": [],
   "source": [
    "# Data available until 2022\n",
    "for item in data:\n",
    "    df = pd.json_normalize(item[\"Dados\"]['2022'])\n",
    "\n",
    "df.info()"
   ]
  },
  {
   "cell_type": "code",
   "execution_count": null,
   "metadata": {},
   "outputs": [],
   "source": [
    "# Remove NA with zero\n",
    "df.fillna(0, inplace=True)\n",
    "\n",
    "# Transform Valor into int\n",
    "df['valor'] = df['valor'].astype(int)\n",
    "\n",
    "# Revome Total from dataframe\n",
    "df_filtered = df[~df['dim_3_t'].str.contains('Total')]\n",
    "\n",
    "# Remove geo totals from dataframe\n",
    "df_filtered = df_filtered[~df_filtered['geodsg'].str.contains('Região|Portugal|Continente|Norte|Centro|Área')]\n",
    "\n",
    "# Remove unnecessary columns\n",
    "df_filtered.drop(columns={'geocod','dim_3','sinal_conv','sinal_conv_desc'}, inplace=True)\n",
    "\n",
    "# Rename columns\n",
    "df_filtered.rename(columns={'geodsg':'city','dim_3_t':'crime', 'valor':'value'}, inplace=True)"
   ]
  },
  {
   "cell_type": "code",
   "execution_count": null,
   "metadata": {
    "scrolled": true
   },
   "outputs": [],
   "source": [
    "df_filtered['crime'].value_counts()"
   ]
  },
  {
   "cell_type": "code",
   "execution_count": null,
   "metadata": {},
   "outputs": [],
   "source": [
    "# Sort the cities alphabetically\n",
    "sorted_unique_cities = np.sort(df_filtered['city'].unique())\n",
    "sorted_unique_cities"
   ]
  },
  {
   "cell_type": "code",
   "execution_count": null,
   "metadata": {},
   "outputs": [],
   "source": [
    "# Count of cities: 325\n",
    "len(sorted_unique_cities)\n"
   ]
  },
  {
   "cell_type": "code",
   "execution_count": null,
   "metadata": {
    "scrolled": false
   },
   "outputs": [],
   "source": [
    "# Pivot the DataFrame with aggregation (sum in this case)\n",
    "matrix = df_filtered.pivot_table(index='crime', columns='city', values='value', aggfunc='sum')\n",
    "\n",
    "# Sort the columns (cities) alphabetically\n",
    "matrix = matrix.reindex(sorted(matrix.columns), axis=1)\n",
    "\n",
    "# Create a heatmap\n",
    "plt.figure(figsize=(160, 6))\n",
    "sns.heatmap(matrix, cmap='YlGnBu', annot=True, annot_kws={\"size\": 5}, fmt='d', linewidths=0.5)\n",
    "\n",
    "plt.title('Crime Quantity Heatmap')\n",
    "plt.xlabel('City')\n",
    "plt.ylabel('Crime')\n",
    "\n",
    "# Display the plot with HTML to enable scrolling\n",
    "plt.xticks(rotation=90, fontsize=8)\n",
    "plt.yticks(fontsize=8)\n",
    "\n",
    "plt.show()"
   ]
  },
  {
   "cell_type": "code",
   "execution_count": null,
   "metadata": {
    "scrolled": false
   },
   "outputs": [],
   "source": [
    "# Sum the values across all crimes for each city\n",
    "city_totals = df_filtered.groupby('city')['value'].sum()\n",
    "\n",
    "# Sort the cities based on total quantities in descending order\n",
    "ranked_cities = city_totals.sort_values(ascending=False)\n",
    "\n",
    "# Create a bar chart to visualize the ranked cities\n",
    "plt.figure(figsize=(50, 6))\n",
    "sns.barplot(x=ranked_cities.index, y=ranked_cities.values, palette='YlGnBu')\n",
    "\n",
    "plt.title('Ranking of Cities by Total Crime Quantity')\n",
    "plt.xlabel('City')\n",
    "plt.ylabel('Total Quantity')\n",
    "\n",
    "plt.xticks(rotation=90, fontsize=5)\n",
    "plt.yticks(fontsize=5)\n",
    "\n",
    "plt.show()\n"
   ]
  }
 ],
 "metadata": {
  "kernelspec": {
   "display_name": "Python 3 (ipykernel)",
   "language": "python",
   "name": "python3"
  },
  "language_info": {
   "codemirror_mode": {
    "name": "ipython",
    "version": 3
   },
   "file_extension": ".py",
   "mimetype": "text/x-python",
   "name": "python",
   "nbconvert_exporter": "python",
   "pygments_lexer": "ipython3",
   "version": "3.10.5"
  }
 },
 "nbformat": 4,
 "nbformat_minor": 2
}
